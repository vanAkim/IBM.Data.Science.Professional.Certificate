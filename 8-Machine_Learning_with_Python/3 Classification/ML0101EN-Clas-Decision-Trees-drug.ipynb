{
 "cells": [
  {
   "cell_type": "markdown",
   "metadata": {
    "button": false,
    "new_sheet": false,
    "run_control": {
     "read_only": false
    }
   },
   "source": [
    "<center>\n",
    "    <img src=\"https://s3-api.us-geo.objectstorage.softlayer.net/cf-courses-data/CognitiveClass/Logos/organization_logo/organization_logo.png\" width=\"300\" alt=\"cognitiveclass.ai logo\"  />\n",
    "</center>\n",
    "\n",
    "# Decision Trees\n",
    "\n",
    "Estimated time needed: **15** minutes\n",
    "\n",
    "## Objectives\n",
    "\n",
    "After completing this lab you will be able to:\n",
    "\n",
    "-   Develop a classification model using Decision Tree Algorithm\n"
   ]
  },
  {
   "cell_type": "markdown",
   "metadata": {
    "button": false,
    "new_sheet": false,
    "run_control": {
     "read_only": false
    }
   },
   "source": [
    "In this lab exercise, you will learn a popular machine learning algorithm, Decision Tree. You will use this classification algorithm to build a model from historical data of patients, and their response to different medications. Then you use the trained decision tree to predict the class of a unknown patient, or to find a proper drug for a new patient.\n"
   ]
  },
  {
   "cell_type": "markdown",
   "metadata": {},
   "source": [
    "<h1>Table of contents</h1>\n",
    "\n",
    "<div class=\"alert alert-block alert-info\" style=\"margin-top: 20px\">\n",
    "    <ol>\n",
    "        <li><a href=\"#about_dataset\">About the dataset</a></li>\n",
    "        <li><a href=\"#downloading_data\">Downloading the Data</a></li>\n",
    "        <li><a href=\"#pre-processing\">Pre-processing</a></li>\n",
    "        <li><a href=\"#setting_up_tree\">Setting up the Decision Tree</a></li>\n",
    "        <li><a href=\"#modeling\">Modeling</a></li>\n",
    "        <li><a href=\"#prediction\">Prediction</a></li>\n",
    "        <li><a href=\"#evaluation\">Evaluation</a></li>\n",
    "        <li><a href=\"#visualization\">Visualization</a></li>\n",
    "    </ol>\n",
    "</div>\n",
    "<br>\n",
    "<hr>\n"
   ]
  },
  {
   "cell_type": "markdown",
   "metadata": {
    "button": false,
    "new_sheet": false,
    "run_control": {
     "read_only": false
    }
   },
   "source": [
    "Import the Following Libraries:\n",
    "\n",
    "<ul>\n",
    "    <li> <b>numpy (as np)</b> </li>\n",
    "    <li> <b>pandas</b> </li>\n",
    "    <li> <b>DecisionTreeClassifier</b> from <b>sklearn.tree</b> </li>\n",
    "</ul>\n"
   ]
  },
  {
   "cell_type": "code",
   "execution_count": 1,
   "metadata": {
    "button": false,
    "new_sheet": false,
    "run_control": {
     "read_only": false
    }
   },
   "outputs": [],
   "source": [
    "import numpy as np \n",
    "import pandas as pd\n",
    "from sklearn.tree import DecisionTreeClassifier"
   ]
  },
  {
   "cell_type": "markdown",
   "metadata": {
    "button": false,
    "new_sheet": false,
    "run_control": {
     "read_only": false
    }
   },
   "source": [
    "<div id=\"about_dataset\">\n",
    "    <h2>About the dataset</h2>\n",
    "    Imagine that you are a medical researcher compiling data for a study. You have collected data about a set of patients, all of whom suffered from the same illness. During their course of treatment, each patient responded to one of 5 medications, Drug A, Drug B, Drug c, Drug x and y. \n",
    "    <br>\n",
    "    <br>\n",
    "    Part of your job is to build a model to find out which drug might be appropriate for a future patient with the same illness. The feature sets of this dataset are Age, Sex, Blood Pressure, and Cholesterol of patients, and the target is the drug that each patient responded to.\n",
    "    <br>\n",
    "    <br>\n",
    "    It is a sample of multiclass classifier, and you can use the training part of the dataset \n",
    "    to build a decision tree, and then use it to predict the class of a unknown patient, or to prescribe it to a new patient.\n",
    "</div>\n"
   ]
  },
  {
   "cell_type": "markdown",
   "metadata": {
    "button": false,
    "new_sheet": false,
    "run_control": {
     "read_only": false
    }
   },
   "source": [
    "<div id=\"downloading_data\"> \n",
    "    <h2>Downloading the Data</h2>\n",
    "    To download the data, we will use !wget to download it from IBM Object Storage.\n",
    "</div>\n"
   ]
  },
  {
   "cell_type": "code",
   "execution_count": 2,
   "metadata": {},
   "outputs": [
    {
     "data": {
      "text/plain": [
       "('drug200.csv', <http.client.HTTPMessage at 0x23b23a1f9d0>)"
      ]
     },
     "execution_count": 2,
     "metadata": {},
     "output_type": "execute_result"
    }
   ],
   "source": [
    "import urllib.request\n",
    "url = 'https://s3-api.us-geo.objectstorage.softlayer.net/cf-courses-data/CognitiveClass/ML0101ENv3/labs/drug200.csv'\n",
    "filename = 'drug200.csv'\n",
    "urllib.request.urlretrieve(url, filename)"
   ]
  },
  {
   "cell_type": "markdown",
   "metadata": {},
   "source": [
    "**Did you know?** When it comes to Machine Learning, you will likely be working with large datasets. As a business, where can you host your data? IBM is offering a unique opportunity for businesses, with 10 Tb of IBM Cloud Object Storage: [Sign up now for free](http://cocl.us/ML0101EN-IBM-Offer-CC)\n"
   ]
  },
  {
   "cell_type": "markdown",
   "metadata": {},
   "source": [
    "now, read data using pandas dataframe:\n"
   ]
  },
  {
   "cell_type": "code",
   "execution_count": 3,
   "metadata": {
    "button": false,
    "new_sheet": false,
    "run_control": {
     "read_only": false
    }
   },
   "outputs": [
    {
     "data": {
      "text/html": [
       "<div>\n",
       "<style scoped>\n",
       "    .dataframe tbody tr th:only-of-type {\n",
       "        vertical-align: middle;\n",
       "    }\n",
       "\n",
       "    .dataframe tbody tr th {\n",
       "        vertical-align: top;\n",
       "    }\n",
       "\n",
       "    .dataframe thead th {\n",
       "        text-align: right;\n",
       "    }\n",
       "</style>\n",
       "<table border=\"1\" class=\"dataframe\">\n",
       "  <thead>\n",
       "    <tr style=\"text-align: right;\">\n",
       "      <th></th>\n",
       "      <th>Age</th>\n",
       "      <th>Sex</th>\n",
       "      <th>BP</th>\n",
       "      <th>Cholesterol</th>\n",
       "      <th>Na_to_K</th>\n",
       "      <th>Drug</th>\n",
       "    </tr>\n",
       "  </thead>\n",
       "  <tbody>\n",
       "    <tr>\n",
       "      <th>0</th>\n",
       "      <td>23</td>\n",
       "      <td>F</td>\n",
       "      <td>HIGH</td>\n",
       "      <td>HIGH</td>\n",
       "      <td>25.355</td>\n",
       "      <td>drugY</td>\n",
       "    </tr>\n",
       "    <tr>\n",
       "      <th>1</th>\n",
       "      <td>47</td>\n",
       "      <td>M</td>\n",
       "      <td>LOW</td>\n",
       "      <td>HIGH</td>\n",
       "      <td>13.093</td>\n",
       "      <td>drugC</td>\n",
       "    </tr>\n",
       "    <tr>\n",
       "      <th>2</th>\n",
       "      <td>47</td>\n",
       "      <td>M</td>\n",
       "      <td>LOW</td>\n",
       "      <td>HIGH</td>\n",
       "      <td>10.114</td>\n",
       "      <td>drugC</td>\n",
       "    </tr>\n",
       "    <tr>\n",
       "      <th>3</th>\n",
       "      <td>28</td>\n",
       "      <td>F</td>\n",
       "      <td>NORMAL</td>\n",
       "      <td>HIGH</td>\n",
       "      <td>7.798</td>\n",
       "      <td>drugX</td>\n",
       "    </tr>\n",
       "    <tr>\n",
       "      <th>4</th>\n",
       "      <td>61</td>\n",
       "      <td>F</td>\n",
       "      <td>LOW</td>\n",
       "      <td>HIGH</td>\n",
       "      <td>18.043</td>\n",
       "      <td>drugY</td>\n",
       "    </tr>\n",
       "  </tbody>\n",
       "</table>\n",
       "</div>"
      ],
      "text/plain": [
       "   Age Sex      BP Cholesterol  Na_to_K   Drug\n",
       "0   23   F    HIGH        HIGH   25.355  drugY\n",
       "1   47   M     LOW        HIGH   13.093  drugC\n",
       "2   47   M     LOW        HIGH   10.114  drugC\n",
       "3   28   F  NORMAL        HIGH    7.798  drugX\n",
       "4   61   F     LOW        HIGH   18.043  drugY"
      ]
     },
     "execution_count": 3,
     "metadata": {},
     "output_type": "execute_result"
    }
   ],
   "source": [
    "my_data = pd.read_csv(\"drug200.csv\", delimiter=\",\")\n",
    "my_data[0:5]"
   ]
  },
  {
   "cell_type": "markdown",
   "metadata": {
    "button": false,
    "new_sheet": false,
    "run_control": {
     "read_only": false
    }
   },
   "source": [
    "<div id=\"practice\"> \n",
    "    <h3>Practice</h3> \n",
    "    What is the size of data? \n",
    "</div>\n"
   ]
  },
  {
   "cell_type": "code",
   "execution_count": 4,
   "metadata": {
    "button": false,
    "new_sheet": false,
    "run_control": {
     "read_only": false
    }
   },
   "outputs": [
    {
     "data": {
      "text/plain": [
       "(200, 6)"
      ]
     },
     "execution_count": 4,
     "metadata": {},
     "output_type": "execute_result"
    }
   ],
   "source": [
    "# write your code here\n",
    "my_data.shape\n",
    "\n"
   ]
  },
  {
   "cell_type": "markdown",
   "metadata": {},
   "source": [
    "Double-click **here** for the solution.\n",
    "\n",
    "<!-- Your answer is below:\n",
    "        \n",
    "my_data.shape\n",
    "\n",
    "-->\n"
   ]
  },
  {
   "cell_type": "markdown",
   "metadata": {},
   "source": [
    "<div href=\"pre-processing\">\n",
    "    <h2>Pre-processing</h2>\n",
    "</div>\n"
   ]
  },
  {
   "cell_type": "markdown",
   "metadata": {
    "button": false,
    "new_sheet": false,
    "run_control": {
     "read_only": false
    }
   },
   "source": [
    "Using <b>my_data</b> as the Drug.csv data read by pandas, declare the following variables: <br>\n",
    "\n",
    "<ul>\n",
    "    <li> <b> X </b> as the <b> Feature Matrix </b> (data of my_data) </li>\n",
    "    <li> <b> y </b> as the <b> response vector (target) </b> </li>\n",
    "</ul>\n"
   ]
  },
  {
   "cell_type": "markdown",
   "metadata": {
    "button": false,
    "new_sheet": false,
    "run_control": {
     "read_only": false
    }
   },
   "source": [
    "Remove the column containing the target name since it doesn't contain numeric values.\n"
   ]
  },
  {
   "cell_type": "code",
   "execution_count": 5,
   "metadata": {},
   "outputs": [
    {
     "data": {
      "text/plain": [
       "array([[23, 'F', 'HIGH', 'HIGH', 25.355],\n",
       "       [47, 'M', 'LOW', 'HIGH', 13.093],\n",
       "       [47, 'M', 'LOW', 'HIGH', 10.113999999999999],\n",
       "       [28, 'F', 'NORMAL', 'HIGH', 7.797999999999999],\n",
       "       [61, 'F', 'LOW', 'HIGH', 18.043]], dtype=object)"
      ]
     },
     "execution_count": 5,
     "metadata": {},
     "output_type": "execute_result"
    }
   ],
   "source": [
    "X = my_data[['Age', 'Sex', 'BP', 'Cholesterol', 'Na_to_K']].values\n",
    "X[0:5]"
   ]
  },
  {
   "cell_type": "markdown",
   "metadata": {},
   "source": [
    "As you may figure out, some features in this dataset are categorical such as **Sex** or **BP**. Unfortunately, Sklearn Decision Trees do not handle categorical variables. But still we can convert these features to numerical values. **pandas.get_dummies()**\n",
    "Convert categorical variable into dummy/indicator variables.\n"
   ]
  },
  {
   "cell_type": "code",
   "execution_count": 6,
   "metadata": {},
   "outputs": [
    {
     "data": {
      "text/plain": [
       "array([[23, 0, 0, 0, 25.355],\n",
       "       [47, 1, 1, 0, 13.093],\n",
       "       [47, 1, 1, 0, 10.113999999999999],\n",
       "       [28, 0, 2, 0, 7.797999999999999],\n",
       "       [61, 0, 1, 0, 18.043]], dtype=object)"
      ]
     },
     "execution_count": 6,
     "metadata": {},
     "output_type": "execute_result"
    }
   ],
   "source": [
    "from sklearn import preprocessing\n",
    "le_sex = preprocessing.LabelEncoder()\n",
    "le_sex.fit(['F','M'])\n",
    "X[:,1] = le_sex.transform(X[:,1]) \n",
    "\n",
    "\n",
    "le_BP = preprocessing.LabelEncoder()\n",
    "le_BP.fit([ 'LOW', 'NORMAL', 'HIGH'])\n",
    "X[:,2] = le_BP.transform(X[:,2])\n",
    "\n",
    "\n",
    "le_Chol = preprocessing.LabelEncoder()\n",
    "le_Chol.fit([ 'NORMAL', 'HIGH'])\n",
    "X[:,3] = le_Chol.transform(X[:,3]) \n",
    "\n",
    "X[0:5]\n"
   ]
  },
  {
   "cell_type": "markdown",
   "metadata": {},
   "source": [
    "Now we can fill the target variable.\n"
   ]
  },
  {
   "cell_type": "code",
   "execution_count": 7,
   "metadata": {
    "button": false,
    "new_sheet": false,
    "run_control": {
     "read_only": false
    }
   },
   "outputs": [
    {
     "data": {
      "text/plain": [
       "0    drugY\n",
       "1    drugC\n",
       "2    drugC\n",
       "3    drugX\n",
       "4    drugY\n",
       "Name: Drug, dtype: object"
      ]
     },
     "execution_count": 7,
     "metadata": {},
     "output_type": "execute_result"
    }
   ],
   "source": [
    "y = my_data[\"Drug\"]\n",
    "y[0:5]"
   ]
  },
  {
   "cell_type": "markdown",
   "metadata": {
    "button": false,
    "new_sheet": false,
    "run_control": {
     "read_only": false
    }
   },
   "source": [
    "<hr>\n",
    "\n",
    "<div id=\"setting_up_tree\">\n",
    "    <h2>Setting up the Decision Tree</h2>\n",
    "    We will be using <b>train/test split</b> on our <b>decision tree</b>. Let's import <b>train_test_split</b> from <b>sklearn.cross_validation</b>.\n",
    "</div>\n"
   ]
  },
  {
   "cell_type": "code",
   "execution_count": 8,
   "metadata": {
    "button": false,
    "new_sheet": false,
    "run_control": {
     "read_only": false
    }
   },
   "outputs": [],
   "source": [
    "from sklearn.model_selection import train_test_split"
   ]
  },
  {
   "cell_type": "markdown",
   "metadata": {
    "button": false,
    "new_sheet": false,
    "run_control": {
     "read_only": false
    }
   },
   "source": [
    "Now <b> train_test_split </b> will return 4 different parameters. We will name them:<br>\n",
    "X_trainset, X_testset, y_trainset, y_testset <br> <br>\n",
    "The <b> train_test_split </b> will need the parameters: <br>\n",
    "X, y, test_size=0.3, and random_state=3. <br> <br>\n",
    "The <b>X</b> and <b>y</b> are the arrays required before the split, the <b>test_size</b> represents the ratio of the testing dataset, and the <b>random_state</b> ensures that we obtain the same splits.\n"
   ]
  },
  {
   "cell_type": "code",
   "execution_count": 9,
   "metadata": {
    "button": false,
    "new_sheet": false,
    "run_control": {
     "read_only": false
    }
   },
   "outputs": [],
   "source": [
    "X_trainset, X_testset, y_trainset, y_testset = train_test_split(X, y, test_size=0.3, random_state=3)"
   ]
  },
  {
   "cell_type": "markdown",
   "metadata": {
    "button": false,
    "new_sheet": false,
    "run_control": {
     "read_only": false
    }
   },
   "source": [
    "<h3>Practice</h3>\n",
    "Print the shape of X_trainset and y_trainset. Ensure that the dimensions match\n"
   ]
  },
  {
   "cell_type": "code",
   "execution_count": 10,
   "metadata": {
    "button": false,
    "new_sheet": false,
    "run_control": {
     "read_only": false
    }
   },
   "outputs": [
    {
     "name": "stdout",
     "output_type": "stream",
     "text": [
      "(140, 5)\n",
      "(140,)\n"
     ]
    }
   ],
   "source": [
    "# your code\n",
    "print(X_trainset.shape)\n",
    "print(y_trainset.shape)"
   ]
  },
  {
   "cell_type": "markdown",
   "metadata": {},
   "source": [
    "Double-click **here** for the solution.\n",
    "\n",
    "<!-- Your answer is below:\n",
    "        \n",
    "print('Shape of X training set {}'.format(X_trainset.shape),'&',' Size of Y training set {}'.format(y_trainset.shape))\n",
    "\n",
    "-->\n"
   ]
  },
  {
   "cell_type": "markdown",
   "metadata": {
    "button": false,
    "new_sheet": false,
    "run_control": {
     "read_only": false
    }
   },
   "source": [
    "Print the shape of X_testset and y_testset. Ensure that the dimensions match\n"
   ]
  },
  {
   "cell_type": "code",
   "execution_count": 11,
   "metadata": {
    "button": false,
    "new_sheet": false,
    "run_control": {
     "read_only": false
    }
   },
   "outputs": [
    {
     "name": "stdout",
     "output_type": "stream",
     "text": [
      "(60, 5)\n",
      "(60,)\n"
     ]
    }
   ],
   "source": [
    "# your code\n",
    "print(X_testset.shape)\n",
    "print(y_testset.shape)"
   ]
  },
  {
   "cell_type": "markdown",
   "metadata": {},
   "source": [
    "Double-click **here** for the solution.\n",
    "\n",
    "<!-- Your answer is below:\n",
    "        \n",
    "print('Shape of X training set {}'.format(X_testset.shape),'&',' Size of Y training set {}'.format(y_testset.shape))\n",
    "\n",
    "-->\n"
   ]
  },
  {
   "cell_type": "markdown",
   "metadata": {
    "button": false,
    "new_sheet": false,
    "run_control": {
     "read_only": false
    }
   },
   "source": [
    "<hr>\n",
    "\n",
    "<div id=\"modeling\">\n",
    "    <h2>Modeling</h2>\n",
    "    We will first create an instance of the <b>DecisionTreeClassifier</b> called <b>drugTree</b>.<br>\n",
    "    Inside of the classifier, specify <i> criterion=\"entropy\" </i> so we can see the information gain of each node.\n",
    "</div>\n"
   ]
  },
  {
   "cell_type": "code",
   "execution_count": 12,
   "metadata": {
    "button": false,
    "new_sheet": false,
    "run_control": {
     "read_only": false
    }
   },
   "outputs": [
    {
     "data": {
      "text/plain": [
       "DecisionTreeClassifier(criterion='entropy', max_depth=4)"
      ]
     },
     "execution_count": 12,
     "metadata": {},
     "output_type": "execute_result"
    }
   ],
   "source": [
    "drugTree = DecisionTreeClassifier(criterion=\"entropy\", max_depth = 4)\n",
    "drugTree # it shows the default parameters"
   ]
  },
  {
   "cell_type": "markdown",
   "metadata": {
    "button": false,
    "new_sheet": false,
    "run_control": {
     "read_only": false
    }
   },
   "source": [
    "Next, we will fit the data with the training feature matrix <b> X_trainset </b> and training  response vector <b> y_trainset </b>\n"
   ]
  },
  {
   "cell_type": "code",
   "execution_count": 13,
   "metadata": {
    "button": false,
    "new_sheet": false,
    "run_control": {
     "read_only": false
    },
    "scrolled": true
   },
   "outputs": [
    {
     "data": {
      "text/plain": [
       "DecisionTreeClassifier(criterion='entropy', max_depth=4)"
      ]
     },
     "execution_count": 13,
     "metadata": {},
     "output_type": "execute_result"
    }
   ],
   "source": [
    "drugTree.fit(X_trainset,y_trainset)"
   ]
  },
  {
   "cell_type": "markdown",
   "metadata": {
    "button": false,
    "new_sheet": false,
    "run_control": {
     "read_only": false
    }
   },
   "source": [
    "<hr>\n",
    "\n",
    "<div id=\"prediction\">\n",
    "    <h2>Prediction</h2>\n",
    "    Let's make some <b>predictions</b> on the testing dataset and store it into a variable called <b>predTree</b>.\n",
    "</div>\n"
   ]
  },
  {
   "cell_type": "code",
   "execution_count": 14,
   "metadata": {
    "button": false,
    "new_sheet": false,
    "run_control": {
     "read_only": false
    }
   },
   "outputs": [],
   "source": [
    "predTree = drugTree.predict(X_testset)"
   ]
  },
  {
   "cell_type": "markdown",
   "metadata": {
    "button": false,
    "new_sheet": false,
    "run_control": {
     "read_only": false
    }
   },
   "source": [
    "You can print out <b>predTree</b> and <b>y_testset</b> if you want to visually compare the prediction to the actual values.\n"
   ]
  },
  {
   "cell_type": "code",
   "execution_count": 15,
   "metadata": {
    "button": false,
    "new_sheet": false,
    "run_control": {
     "read_only": false
    },
    "scrolled": true
   },
   "outputs": [
    {
     "name": "stdout",
     "output_type": "stream",
     "text": [
      "['drugY' 'drugX' 'drugX' 'drugX' 'drugX']\n",
      "40     drugY\n",
      "51     drugX\n",
      "139    drugX\n",
      "197    drugX\n",
      "170    drugX\n",
      "Name: Drug, dtype: object\n"
     ]
    }
   ],
   "source": [
    "print (predTree [0:5])\n",
    "print (y_testset [0:5])\n"
   ]
  },
  {
   "cell_type": "markdown",
   "metadata": {
    "button": false,
    "new_sheet": false,
    "run_control": {
     "read_only": false
    }
   },
   "source": [
    "<hr>\n",
    "\n",
    "<div id=\"evaluation\">\n",
    "    <h2>Evaluation</h2>\n",
    "    Next, let's import <b>metrics</b> from sklearn and check the accuracy of our model.\n",
    "</div>\n"
   ]
  },
  {
   "cell_type": "code",
   "execution_count": 16,
   "metadata": {
    "button": false,
    "new_sheet": false,
    "run_control": {
     "read_only": false
    }
   },
   "outputs": [
    {
     "name": "stdout",
     "output_type": "stream",
     "text": [
      "DecisionTrees's Accuracy:  0.9833333333333333\n"
     ]
    }
   ],
   "source": [
    "from sklearn import metrics\n",
    "import matplotlib.pyplot as plt\n",
    "print(\"DecisionTrees's Accuracy: \", metrics.accuracy_score(y_testset, predTree))"
   ]
  },
  {
   "cell_type": "markdown",
   "metadata": {
    "button": false,
    "new_sheet": false,
    "run_control": {
     "read_only": false
    }
   },
   "source": [
    "**Accuracy classification score** computes subset accuracy: the set of labels predicted for a sample must exactly match the corresponding set of labels in y_true.  \n",
    "\n",
    "In multilabel classification, the function returns the subset accuracy. If the entire set of predicted labels for a sample strictly match with the true set of labels, then the subset accuracy is 1.0; otherwise it is 0.0.\n"
   ]
  },
  {
   "cell_type": "markdown",
   "metadata": {},
   "source": [
    "<hr>\n",
    "\n",
    "<div id=\"visualization\">\n",
    "    <h2>Visualization</h2>\n",
    "    Lets visualize the tree\n",
    "</div>\n"
   ]
  },
  {
   "cell_type": "code",
   "execution_count": 17,
   "metadata": {},
   "outputs": [
    {
     "name": "stdout",
     "output_type": "stream",
     "text": [
      "Collecting package metadata (current_repodata.json): ...working... done\n",
      "Solving environment: ...working... done\n",
      "\n",
      "# All requested packages already installed.\n",
      "\n"
     ]
    }
   ],
   "source": [
    "# Notice: You might need to uncomment and install the pydotplus and graphviz libraries if you have not installed these before\n",
    "#!pip install pydotplus\n",
    "!conda install graphviz -y"
   ]
  },
  {
   "cell_type": "code",
   "execution_count": 18,
   "metadata": {
    "button": false,
    "new_sheet": false,
    "run_control": {
     "read_only": false
    }
   },
   "outputs": [],
   "source": [
    "from six import StringIO\n",
    "import pydotplus\n",
    "import matplotlib.image as mpimg\n",
    "from sklearn import tree\n",
    "%matplotlib inline "
   ]
  },
  {
   "cell_type": "code",
   "execution_count": 25,
   "metadata": {
    "button": false,
    "new_sheet": false,
    "run_control": {
     "read_only": false
    },
    "scrolled": false
   },
   "outputs": [
    {
     "data": {
      "text/plain": [
       "<matplotlib.image.AxesImage at 0x23b39d69250>"
      ]
     },
     "execution_count": 25,
     "metadata": {},
     "output_type": "execute_result"
    },
    {
     "data": {
      "image/png": "[encoded data removed]",
      "text/plain": [
       "<Figure size 1080x1080 with 1 Axes>"
      ]
     },
     "metadata": {
      "needs_background": "light"
     },
     "output_type": "display_data"
    }
   ],
   "source": [
    "dot_data = StringIO()\n",
    "filename = \"drugtree.png\"\n",
    "featureNames = my_data.columns[0:5]\n",
    "targetNames = my_data[\"Drug\"].unique().tolist()\n",
    "out=tree.export_graphviz(drugTree,\n",
    "                         feature_names=featureNames, \n",
    "                         out_file=dot_data, \n",
    "                         class_names= np.unique(y_trainset),\n",
    "                         filled=True, \n",
    "                         special_characters=True,\n",
    "                         rotate=False)  \n",
    "graph = pydotplus.graph_from_dot_data(dot_data.getvalue())  \n",
    "graph.write_png(filename)\n",
    "img = mpimg.imread(filename)\n",
    "plt.figure(figsize=(15, 15))\n",
    "plt.imshow(img,interpolation='nearest')"
   ]
  },
  {
   "cell_type": "code",
   "execution_count": 29,
   "metadata": {},
   "outputs": [
    {
     "data": {
      "image/svg+xml": [
       "<?xml version=\"1.0\" encoding=\"UTF-8\" standalone=\"no\"?>\r\n",
       "<!DOCTYPE svg PUBLIC \"-//W3C//DTD SVG 1.1//EN\"\r\n",
       " \"http://www.w3.org/Graphics/SVG/1.1/DTD/svg11.dtd\">\r\n",
       "<!-- Generated by graphviz version 2.38.0 (20140413.2041)\r\n",
       " -->\r\n",
       "<!-- Title: Tree Pages: 1 -->\r\n",
       "<svg width=\"631pt\" height=\"627pt\"\r\n",
       " viewBox=\"0.00 0.00 631.00 627.00\" xmlns=\"http://www.w3.org/2000/svg\" xmlns:xlink=\"http://www.w3.org/1999/xlink\">\r\n",
       "<g id=\"graph0\" class=\"graph\" transform=\"scale(1 1) rotate(0) translate(4 623)\">\r\n",
       "<title>Tree</title>\r\n",
       "<polygon fill=\"white\" stroke=\"none\" points=\"-4,4 -4,-623 627,-623 627,4 -4,4\"/>\r\n",
       "<!-- 0 -->\r\n",
       "<g id=\"node1\" class=\"node\"><title>0</title>\r\n",
       "<polygon fill=\"#f6bcea\" stroke=\"black\" points=\"476.5,-619 309.5,-619 309.5,-521 476.5,-521 476.5,-619\"/>\r\n",
       "<text text-anchor=\"start\" x=\"370\" y=\"-603.8\" font-family=\"Times New Roman,serif\" font-size=\"14.00\">node #0</text>\r\n",
       "<text text-anchor=\"start\" x=\"340.5\" y=\"-588.8\" font-family=\"Times New Roman,serif\" font-size=\"14.00\">Na_to_K ≤ 14.615</text>\r\n",
       "<text text-anchor=\"start\" x=\"348\" y=\"-573.8\" font-family=\"Times New Roman,serif\" font-size=\"14.00\">entropy = 1.929</text>\r\n",
       "<text text-anchor=\"start\" x=\"352\" y=\"-558.8\" font-family=\"Times New Roman,serif\" font-size=\"14.00\">samples = 140</text>\r\n",
       "<text text-anchor=\"start\" x=\"317.5\" y=\"-543.8\" font-family=\"Times New Roman,serif\" font-size=\"14.00\">value = [16, 11, 11, 33, 69]</text>\r\n",
       "<text text-anchor=\"start\" x=\"353.5\" y=\"-528.8\" font-family=\"Times New Roman,serif\" font-size=\"14.00\">class = drugY</text>\r\n",
       "</g>\r\n",
       "<!-- 1 -->\r\n",
       "<g id=\"node2\" class=\"node\"><title>1</title>\r\n",
       "<polygon fill=\"#c3c2f7\" stroke=\"black\" points=\"389.5,-485 228.5,-485 228.5,-387 389.5,-387 389.5,-485\"/>\r\n",
       "<text text-anchor=\"start\" x=\"286\" y=\"-469.8\" font-family=\"Times New Roman,serif\" font-size=\"14.00\">node #1</text>\r\n",
       "<text text-anchor=\"start\" x=\"284\" y=\"-454.8\" font-family=\"Times New Roman,serif\" font-size=\"14.00\">BP ≤ 0.5</text>\r\n",
       "<text text-anchor=\"start\" x=\"264\" y=\"-439.8\" font-family=\"Times New Roman,serif\" font-size=\"14.00\">entropy = 1.832</text>\r\n",
       "<text text-anchor=\"start\" x=\"271.5\" y=\"-424.8\" font-family=\"Times New Roman,serif\" font-size=\"14.00\">samples = 71</text>\r\n",
       "<text text-anchor=\"start\" x=\"236.5\" y=\"-409.8\" font-family=\"Times New Roman,serif\" font-size=\"14.00\">value = [16, 11, 11, 33, 0]</text>\r\n",
       "<text text-anchor=\"start\" x=\"269.5\" y=\"-394.8\" font-family=\"Times New Roman,serif\" font-size=\"14.00\">class = drugX</text>\r\n",
       "</g>\r\n",
       "<!-- 0&#45;&gt;1 -->\r\n",
       "<g id=\"edge1\" class=\"edge\"><title>0&#45;&gt;1</title>\r\n",
       "<path fill=\"none\" stroke=\"black\" d=\"M362.436,-520.972C356.82,-512.145 350.908,-502.855 345.146,-493.8\"/>\r\n",
       "<polygon fill=\"black\" stroke=\"black\" points=\"348.003,-491.771 339.682,-485.214 342.098,-495.53 348.003,-491.771\"/>\r\n",
       "<text text-anchor=\"middle\" x=\"334.258\" y=\"-505.919\" font-family=\"Times New Roman,serif\" font-size=\"14.00\">True</text>\r\n",
       "</g>\r\n",
       "<!-- 10 -->\r\n",
       "<g id=\"node11\" class=\"node\"><title>10</title>\r\n",
       "<polygon fill=\"#e539c0\" stroke=\"black\" points=\"548,-477.5 408,-477.5 408,-394.5 548,-394.5 548,-477.5\"/>\r\n",
       "<text text-anchor=\"start\" x=\"451.5\" y=\"-462.3\" font-family=\"Times New Roman,serif\" font-size=\"14.00\">node #10</text>\r\n",
       "<text text-anchor=\"start\" x=\"440\" y=\"-447.3\" font-family=\"Times New Roman,serif\" font-size=\"14.00\">entropy = 0.0</text>\r\n",
       "<text text-anchor=\"start\" x=\"440.5\" y=\"-432.3\" font-family=\"Times New Roman,serif\" font-size=\"14.00\">samples = 69</text>\r\n",
       "<text text-anchor=\"start\" x=\"416\" y=\"-417.3\" font-family=\"Times New Roman,serif\" font-size=\"14.00\">value = [0, 0, 0, 0, 69]</text>\r\n",
       "<text text-anchor=\"start\" x=\"438.5\" y=\"-402.3\" font-family=\"Times New Roman,serif\" font-size=\"14.00\">class = drugY</text>\r\n",
       "</g>\r\n",
       "<!-- 0&#45;&gt;10 -->\r\n",
       "<g id=\"edge10\" class=\"edge\"><title>0&#45;&gt;10</title>\r\n",
       "<path fill=\"none\" stroke=\"black\" d=\"M423.927,-520.972C431.19,-509.693 438.941,-497.657 446.239,-486.323\"/>\r\n",
       "<polygon fill=\"black\" stroke=\"black\" points=\"449.245,-488.119 451.717,-477.817 443.36,-484.329 449.245,-488.119\"/>\r\n",
       "<text text-anchor=\"middle\" x=\"457.009\" y=\"-498.55\" font-family=\"Times New Roman,serif\" font-size=\"14.00\">False</text>\r\n",
       "</g>\r\n",
       "<!-- 2 -->\r\n",
       "<g id=\"node3\" class=\"node\"><title>2</title>\r\n",
       "<polygon fill=\"#f7d8c1\" stroke=\"black\" points=\"300.5,-351 153.5,-351 153.5,-253 300.5,-253 300.5,-351\"/>\r\n",
       "<text text-anchor=\"start\" x=\"204\" y=\"-335.8\" font-family=\"Times New Roman,serif\" font-size=\"14.00\">node #2</text>\r\n",
       "<text text-anchor=\"start\" x=\"196\" y=\"-320.8\" font-family=\"Times New Roman,serif\" font-size=\"14.00\">Age ≤ 50.5</text>\r\n",
       "<text text-anchor=\"start\" x=\"182\" y=\"-305.8\" font-family=\"Times New Roman,serif\" font-size=\"14.00\">entropy = 0.975</text>\r\n",
       "<text text-anchor=\"start\" x=\"189.5\" y=\"-290.8\" font-family=\"Times New Roman,serif\" font-size=\"14.00\">samples = 27</text>\r\n",
       "<text text-anchor=\"start\" x=\"161.5\" y=\"-275.8\" font-family=\"Times New Roman,serif\" font-size=\"14.00\">value = [16, 11, 0, 0, 0]</text>\r\n",
       "<text text-anchor=\"start\" x=\"187.5\" y=\"-260.8\" font-family=\"Times New Roman,serif\" font-size=\"14.00\">class = drugA</text>\r\n",
       "</g>\r\n",
       "<!-- 1&#45;&gt;2 -->\r\n",
       "<g id=\"edge2\" class=\"edge\"><title>1&#45;&gt;2</title>\r\n",
       "<path fill=\"none\" stroke=\"black\" d=\"M279.164,-386.972C273.681,-378.145 267.91,-368.855 262.285,-359.8\"/>\r\n",
       "<polygon fill=\"black\" stroke=\"black\" points=\"265.201,-357.861 256.951,-351.214 259.255,-361.555 265.201,-357.861\"/>\r\n",
       "</g>\r\n",
       "<!-- 5 -->\r\n",
       "<g id=\"node6\" class=\"node\"><title>5</title>\r\n",
       "<polygon fill=\"#7d7bee\" stroke=\"black\" points=\"465.5,-351 318.5,-351 318.5,-253 465.5,-253 465.5,-351\"/>\r\n",
       "<text text-anchor=\"start\" x=\"369\" y=\"-335.8\" font-family=\"Times New Roman,serif\" font-size=\"14.00\">node #5</text>\r\n",
       "<text text-anchor=\"start\" x=\"343.5\" y=\"-320.8\" font-family=\"Times New Roman,serif\" font-size=\"14.00\">Cholesterol ≤ 0.5</text>\r\n",
       "<text text-anchor=\"start\" x=\"347\" y=\"-305.8\" font-family=\"Times New Roman,serif\" font-size=\"14.00\">entropy = 0.811</text>\r\n",
       "<text text-anchor=\"start\" x=\"354.5\" y=\"-290.8\" font-family=\"Times New Roman,serif\" font-size=\"14.00\">samples = 44</text>\r\n",
       "<text text-anchor=\"start\" x=\"326.5\" y=\"-275.8\" font-family=\"Times New Roman,serif\" font-size=\"14.00\">value = [0, 0, 11, 33, 0]</text>\r\n",
       "<text text-anchor=\"start\" x=\"352.5\" y=\"-260.8\" font-family=\"Times New Roman,serif\" font-size=\"14.00\">class = drugX</text>\r\n",
       "</g>\r\n",
       "<!-- 1&#45;&gt;5 -->\r\n",
       "<g id=\"edge5\" class=\"edge\"><title>1&#45;&gt;5</title>\r\n",
       "<path fill=\"none\" stroke=\"black\" d=\"M339.2,-386.972C344.75,-378.145 350.591,-368.855 356.285,-359.8\"/>\r\n",
       "<polygon fill=\"black\" stroke=\"black\" points=\"359.324,-361.543 361.684,-351.214 353.398,-357.816 359.324,-361.543\"/>\r\n",
       "</g>\r\n",
       "<!-- 3 -->\r\n",
       "<g id=\"node4\" class=\"node\"><title>3</title>\r\n",
       "<polygon fill=\"#e58139\" stroke=\"black\" points=\"140,-209.5 0,-209.5 0,-126.5 140,-126.5 140,-209.5\"/>\r\n",
       "<text text-anchor=\"start\" x=\"47\" y=\"-194.3\" font-family=\"Times New Roman,serif\" font-size=\"14.00\">node #3</text>\r\n",
       "<text text-anchor=\"start\" x=\"32\" y=\"-179.3\" font-family=\"Times New Roman,serif\" font-size=\"14.00\">entropy = 0.0</text>\r\n",
       "<text text-anchor=\"start\" x=\"32.5\" y=\"-164.3\" font-family=\"Times New Roman,serif\" font-size=\"14.00\">samples = 16</text>\r\n",
       "<text text-anchor=\"start\" x=\"8\" y=\"-149.3\" font-family=\"Times New Roman,serif\" font-size=\"14.00\">value = [16, 0, 0, 0, 0]</text>\r\n",
       "<text text-anchor=\"start\" x=\"30.5\" y=\"-134.3\" font-family=\"Times New Roman,serif\" font-size=\"14.00\">class = drugA</text>\r\n",
       "</g>\r\n",
       "<!-- 2&#45;&gt;3 -->\r\n",
       "<g id=\"edge3\" class=\"edge\"><title>2&#45;&gt;3</title>\r\n",
       "<path fill=\"none\" stroke=\"black\" d=\"M169.875,-252.972C155.598,-240.968 140.299,-228.105 126.073,-216.144\"/>\r\n",
       "<polygon fill=\"black\" stroke=\"black\" points=\"128.2,-213.36 118.293,-209.603 123.695,-218.718 128.2,-213.36\"/>\r\n",
       "</g>\r\n",
       "<!-- 4 -->\r\n",
       "<g id=\"node5\" class=\"node\"><title>4</title>\r\n",
       "<polygon fill=\"#7be539\" stroke=\"black\" points=\"298,-209.5 158,-209.5 158,-126.5 298,-126.5 298,-209.5\"/>\r\n",
       "<text text-anchor=\"start\" x=\"205\" y=\"-194.3\" font-family=\"Times New Roman,serif\" font-size=\"14.00\">node #4</text>\r\n",
       "<text text-anchor=\"start\" x=\"190\" y=\"-179.3\" font-family=\"Times New Roman,serif\" font-size=\"14.00\">entropy = 0.0</text>\r\n",
       "<text text-anchor=\"start\" x=\"190.5\" y=\"-164.3\" font-family=\"Times New Roman,serif\" font-size=\"14.00\">samples = 11</text>\r\n",
       "<text text-anchor=\"start\" x=\"166\" y=\"-149.3\" font-family=\"Times New Roman,serif\" font-size=\"14.00\">value = [0, 11, 0, 0, 0]</text>\r\n",
       "<text text-anchor=\"start\" x=\"188.5\" y=\"-134.3\" font-family=\"Times New Roman,serif\" font-size=\"14.00\">class = drugB</text>\r\n",
       "</g>\r\n",
       "<!-- 2&#45;&gt;4 -->\r\n",
       "<g id=\"edge4\" class=\"edge\"><title>2&#45;&gt;4</title>\r\n",
       "<path fill=\"none\" stroke=\"black\" d=\"M227.364,-252.972C227.445,-242.246 227.532,-230.835 227.614,-219.994\"/>\r\n",
       "<polygon fill=\"black\" stroke=\"black\" points=\"231.115,-219.843 227.691,-209.817 224.115,-219.79 231.115,-219.843\"/>\r\n",
       "</g>\r\n",
       "<!-- 6 -->\r\n",
       "<g id=\"node7\" class=\"node\"><title>6</title>\r\n",
       "<polygon fill=\"#edfdfa\" stroke=\"black\" points=\"464.5,-217 317.5,-217 317.5,-119 464.5,-119 464.5,-217\"/>\r\n",
       "<text text-anchor=\"start\" x=\"368\" y=\"-201.8\" font-family=\"Times New Roman,serif\" font-size=\"14.00\">node #6</text>\r\n",
       "<text text-anchor=\"start\" x=\"366\" y=\"-186.8\" font-family=\"Times New Roman,serif\" font-size=\"14.00\">BP ≤ 1.5</text>\r\n",
       "<text text-anchor=\"start\" x=\"346\" y=\"-171.8\" font-family=\"Times New Roman,serif\" font-size=\"14.00\">entropy = 0.998</text>\r\n",
       "<text text-anchor=\"start\" x=\"353.5\" y=\"-156.8\" font-family=\"Times New Roman,serif\" font-size=\"14.00\">samples = 21</text>\r\n",
       "<text text-anchor=\"start\" x=\"325.5\" y=\"-141.8\" font-family=\"Times New Roman,serif\" font-size=\"14.00\">value = [0, 0, 11, 10, 0]</text>\r\n",
       "<text text-anchor=\"start\" x=\"351.5\" y=\"-126.8\" font-family=\"Times New Roman,serif\" font-size=\"14.00\">class = drugC</text>\r\n",
       "</g>\r\n",
       "<!-- 5&#45;&gt;6 -->\r\n",
       "<g id=\"edge6\" class=\"edge\"><title>5&#45;&gt;6</title>\r\n",
       "<path fill=\"none\" stroke=\"black\" d=\"M391.636,-252.972C391.573,-244.691 391.508,-236.003 391.443,-227.483\"/>\r\n",
       "<polygon fill=\"black\" stroke=\"black\" points=\"394.941,-227.187 391.365,-217.214 387.941,-227.24 394.941,-227.187\"/>\r\n",
       "</g>\r\n",
       "<!-- 9 -->\r\n",
       "<g id=\"node10\" class=\"node\"><title>9</title>\r\n",
       "<polygon fill=\"#3c39e5\" stroke=\"black\" points=\"623,-209.5 483,-209.5 483,-126.5 623,-126.5 623,-209.5\"/>\r\n",
       "<text text-anchor=\"start\" x=\"530\" y=\"-194.3\" font-family=\"Times New Roman,serif\" font-size=\"14.00\">node #9</text>\r\n",
       "<text text-anchor=\"start\" x=\"515\" y=\"-179.3\" font-family=\"Times New Roman,serif\" font-size=\"14.00\">entropy = 0.0</text>\r\n",
       "<text text-anchor=\"start\" x=\"515.5\" y=\"-164.3\" font-family=\"Times New Roman,serif\" font-size=\"14.00\">samples = 23</text>\r\n",
       "<text text-anchor=\"start\" x=\"491\" y=\"-149.3\" font-family=\"Times New Roman,serif\" font-size=\"14.00\">value = [0, 0, 0, 23, 0]</text>\r\n",
       "<text text-anchor=\"start\" x=\"513.5\" y=\"-134.3\" font-family=\"Times New Roman,serif\" font-size=\"14.00\">class = drugX</text>\r\n",
       "</g>\r\n",
       "<!-- 5&#45;&gt;9 -->\r\n",
       "<g id=\"edge9\" class=\"edge\"><title>5&#45;&gt;9</title>\r\n",
       "<path fill=\"none\" stroke=\"black\" d=\"M450.58,-252.972C465.221,-240.968 480.91,-228.105 495.498,-216.144\"/>\r\n",
       "<polygon fill=\"black\" stroke=\"black\" points=\"497.962,-218.65 503.476,-209.603 493.524,-213.237 497.962,-218.65\"/>\r\n",
       "</g>\r\n",
       "<!-- 7 -->\r\n",
       "<g id=\"node8\" class=\"node\"><title>7</title>\r\n",
       "<polygon fill=\"#39e5c5\" stroke=\"black\" points=\"382,-83 242,-83 242,-0 382,-0 382,-83\"/>\r\n",
       "<text text-anchor=\"start\" x=\"289\" y=\"-67.8\" font-family=\"Times New Roman,serif\" font-size=\"14.00\">node #7</text>\r\n",
       "<text text-anchor=\"start\" x=\"274\" y=\"-52.8\" font-family=\"Times New Roman,serif\" font-size=\"14.00\">entropy = 0.0</text>\r\n",
       "<text text-anchor=\"start\" x=\"274.5\" y=\"-37.8\" font-family=\"Times New Roman,serif\" font-size=\"14.00\">samples = 11</text>\r\n",
       "<text text-anchor=\"start\" x=\"250\" y=\"-22.8\" font-family=\"Times New Roman,serif\" font-size=\"14.00\">value = [0, 0, 11, 0, 0]</text>\r\n",
       "<text text-anchor=\"start\" x=\"272.5\" y=\"-7.8\" font-family=\"Times New Roman,serif\" font-size=\"14.00\">class = drugC</text>\r\n",
       "</g>\r\n",
       "<!-- 6&#45;&gt;7 -->\r\n",
       "<g id=\"edge7\" class=\"edge\"><title>6&#45;&gt;7</title>\r\n",
       "<path fill=\"none\" stroke=\"black\" d=\"M360.457,-118.865C354.855,-110.038 349.001,-100.811 343.376,-91.9467\"/>\r\n",
       "<polygon fill=\"black\" stroke=\"black\" points=\"346.158,-89.7993 337.845,-83.231 340.248,-93.5498 346.158,-89.7993\"/>\r\n",
       "</g>\r\n",
       "<!-- 8 -->\r\n",
       "<g id=\"node9\" class=\"node\"><title>8</title>\r\n",
       "<polygon fill=\"#3c39e5\" stroke=\"black\" points=\"540,-83 400,-83 400,-0 540,-0 540,-83\"/>\r\n",
       "<text text-anchor=\"start\" x=\"447\" y=\"-67.8\" font-family=\"Times New Roman,serif\" font-size=\"14.00\">node #8</text>\r\n",
       "<text text-anchor=\"start\" x=\"432\" y=\"-52.8\" font-family=\"Times New Roman,serif\" font-size=\"14.00\">entropy = 0.0</text>\r\n",
       "<text text-anchor=\"start\" x=\"432.5\" y=\"-37.8\" font-family=\"Times New Roman,serif\" font-size=\"14.00\">samples = 10</text>\r\n",
       "<text text-anchor=\"start\" x=\"408\" y=\"-22.8\" font-family=\"Times New Roman,serif\" font-size=\"14.00\">value = [0, 0, 0, 10, 0]</text>\r\n",
       "<text text-anchor=\"start\" x=\"430.5\" y=\"-7.8\" font-family=\"Times New Roman,serif\" font-size=\"14.00\">class = drugX</text>\r\n",
       "</g>\r\n",
       "<!-- 6&#45;&gt;8 -->\r\n",
       "<g id=\"edge8\" class=\"edge\"><title>6&#45;&gt;8</title>\r\n",
       "<path fill=\"none\" stroke=\"black\" d=\"M421.543,-118.865C427.145,-110.038 432.999,-100.811 438.624,-91.9467\"/>\r\n",
       "<polygon fill=\"black\" stroke=\"black\" points=\"441.752,-93.5498 444.155,-83.231 435.842,-89.7993 441.752,-93.5498\"/>\r\n",
       "</g>\r\n",
       "</g>\r\n",
       "</svg>\r\n"
      ],
      "text/plain": [
       "<graphviz.files.Source at 0x23b35140d60>"
      ]
     },
     "execution_count": 29,
     "metadata": {},
     "output_type": "execute_result"
    }
   ],
   "source": [
    "import graphviz\n",
    "tree.export_graphviz(drugTree,\n",
    "                feature_names=featureNames,\n",
    "                out_file=\"drugtree.dot\",\n",
    "                class_names=np.unique(y_trainset),\n",
    "                filled=True,\n",
    "                node_ids=True,\n",
    "                special_characters=True,\n",
    "                impurity=True,\n",
    "                label=\"all\",\n",
    "                leaves_parallel=False)\n",
    "\n",
    "with open(\"drugtree.dot\") as drugtree_image:\n",
    "    drugtree_graph = drugtree_image.read()\n",
    "graphviz.Source(drugtree_graph)"
   ]
  },
  {
   "cell_type": "markdown",
   "metadata": {
    "button": false,
    "new_sheet": false,
    "run_control": {
     "read_only": false
    }
   },
   "source": [
    "<h2>Want to learn more?</h2>\n",
    "\n",
    "IBM SPSS Modeler is a comprehensive analytics platform that has many machine learning algorithms. It has been designed to bring predictive intelligence to decisions made by individuals, by groups, by systems – by your enterprise as a whole. A free trial is available through this course, available here: <a href=\"https://www.ibm.com/analytics/spss-statistics-software\">SPSS Modeler</a>\n",
    "\n",
    "Also, you can use Watson Studio to run these notebooks faster with bigger datasets. Watson Studio is IBM's leading cloud solution for data scientists, built by data scientists. With Jupyter notebooks, RStudio, Apache Spark and popular libraries pre-packaged in the cloud, Watson Studio enables data scientists to collaborate on their projects without having to install anything. Join the fast-growing community of Watson Studio users today with a free account at <a href=\"https://www.ibm.com/cloud/watson-studio\">Watson Studio</a>\n"
   ]
  },
  {
   "cell_type": "markdown",
   "metadata": {},
   "source": [
    "### Thank you for completing this lab!\n",
    "\n",
    "## Author\n",
    "\n",
    "Saeed Aghabozorgi\n",
    "\n",
    "### Other Contributors\n",
    "\n",
    "<a href=\"https://www.linkedin.com/in/joseph-s-50398b136/\" target=\"_blank\">Joseph Santarcangelo</a>\n",
    "\n",
    "## Change Log\n",
    "\n",
    "| Date (YYYY-MM-DD) | Version | Changed By | Change Description                 |\n",
    "| ----------------- | ------- | ---------- | ---------------------------------- |\n",
    "| 2020-08-27        | 2.0     | Lavanya    | Moved lab to course repo in GitLab |\n",
    "|                   |         |            |                                    |\n",
    "|                   |         |            |                                    |\n",
    "\n",
    "## <h3 align=\"center\"> © IBM Corporation 2020. All rights reserved. <h3/>\n"
   ]
  }
 ],
 "metadata": {
  "anaconda-cloud": {},
  "hide_input": false,
  "kernelspec": {
   "display_name": "Python 3",
   "language": "python",
   "name": "python3"
  },
  "language_info": {
   "codemirror_mode": {
    "name": "ipython",
    "version": 3
   },
   "file_extension": ".py",
   "mimetype": "text/x-python",
   "name": "python",
   "nbconvert_exporter": "python",
   "pygments_lexer": "ipython3",
   "version": "3.8.5"
  },
  "latex_envs": {
   "LaTeX_envs_menu_present": true,
   "autoclose": false,
   "autocomplete": true,
   "bibliofile": "biblio.bib",
   "cite_by": "apalike",
   "current_citInitial": 1,
   "eqLabelWithNumbers": true,
   "eqNumInitial": 1,
   "hotkeys": {
    "equation": "Ctrl-E",
    "itemize": "Ctrl-I"
   },
   "labels_anchors": false,
   "latex_user_defs": false,
   "report_style_numbering": false,
   "user_envs_cfg": false
  },
  "toc": {
   "base_numbering": 1,
   "nav_menu": {},
   "number_sections": true,
   "sideBar": true,
   "skip_h1_title": false,
   "title_cell": "Table of Contents",
   "title_sidebar": "Contents",
   "toc_cell": false,
   "toc_position": {},
   "toc_section_display": true,
   "toc_window_display": false
  },
  "widgets": {
   "state": {},
   "version": "1.1.2"
  }
 },
 "nbformat": 4,
 "nbformat_minor": 2
}
